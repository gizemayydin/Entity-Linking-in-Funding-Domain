{
 "cells": [
  {
   "cell_type": "code",
   "execution_count": 1,
   "metadata": {},
   "outputs": [],
   "source": [
    "import os\n",
    "import random\n",
    "import torch\n",
    "from tqdm import trange\n",
    "import time\n",
    "import numpy as np\n",
    "import pickle\n",
    "import json\n",
    "from torch.utils.data import DataLoader, RandomSampler, SequentialSampler, TensorDataset\n",
    "from biencoder import *\n",
    "import data_process as data\n",
    "from transformers import get_linear_schedule_with_warmup\n",
    "from transformers import  BertTokenizerFast, BertModel"
   ]
  },
  {
   "cell_type": "code",
   "execution_count": 7,
   "metadata": {},
   "outputs": [],
   "source": [
    "embeddings_folder = \"entity_embdes_2.pkl\"\n",
    "input_batch_size = 64\n",
    "model_path = 'C:\\\\Users\\\\aydxng\\\\Documents\\\\ds-fundingbodies-linkingcomponent-masterthesis\\\\Thesis\\\\LinkerRound1\\\\cand_model_2_epoch_0.pt'\n",
    "seed = 0\n",
    "device='cuda'"
   ]
  },
  {
   "cell_type": "code",
   "execution_count": 3,
   "metadata": {},
   "outputs": [],
   "source": [
    "with open('entities_256.pkl','rb') as f:\n",
    "    entity_dict=pickle.load(f)"
   ]
  },
  {
   "cell_type": "code",
   "execution_count": 4,
   "metadata": {},
   "outputs": [
    {
     "data": {
      "text/plain": [
       "<torch._C.Generator at 0x23ab1565050>"
      ]
     },
     "execution_count": 4,
     "metadata": {},
     "output_type": "execute_result"
    }
   ],
   "source": [
    "random.seed(seed)\n",
    "np.random.seed(seed)\n",
    "torch.manual_seed(seed)"
   ]
  },
  {
   "cell_type": "code",
   "execution_count": 5,
   "metadata": {},
   "outputs": [],
   "source": [
    "from data_process import *\n",
    "def process_entity_data(entity_dict):\n",
    "    \n",
    "    iter_ = list(entity_dict.keys())\n",
    "    processed_samples = []\n",
    "    for idx, sample in enumerate(iter_):\n",
    "        \n",
    "       \n",
    "        entity_id = int(sample)\n",
    "        entity_inputs = entity_dict[sample]['ids']\n",
    "        \n",
    "        record = {\n",
    "                \"entity_id\": entity_id,\n",
    "                \"entity_inputs\": entity_inputs\n",
    "        }\n",
    "        \n",
    "        processed_samples.append(record)\n",
    "    \n",
    "    cand_vecs = torch.tensor(\n",
    "        select_field(processed_samples, \"entity_inputs\"), dtype=torch.long,\n",
    "    )\n",
    "        \n",
    "    label_idx = torch.tensor(\n",
    "        select_field(processed_samples, \"entity_id\"), dtype=torch.long,\n",
    "    )\n",
    "    data = {\n",
    "        \"entity_id\": label_idx,\n",
    "        \"entity_inputs\": cand_vecs\n",
    "    }\n",
    "    tensor_data = TensorDataset(cand_vecs, label_idx)\n",
    "    return data, tensor_data"
   ]
  },
  {
   "cell_type": "code",
   "execution_count": 8,
   "metadata": {},
   "outputs": [],
   "source": [
    "cand_model = torch.load(model_path).to(device)"
   ]
  },
  {
   "cell_type": "code",
   "execution_count": 10,
   "metadata": {},
   "outputs": [],
   "source": [
    "data, tensor_data = process_entity_data(entity_dict)\n",
    "\n",
    "sampler = RandomSampler(tensor_data)\n",
    "dataloader = DataLoader(tensor_data, sampler=sampler, batch_size=input_batch_size)"
   ]
  },
  {
   "cell_type": "code",
   "execution_count": 11,
   "metadata": {
    "scrolled": true
   },
   "outputs": [
    {
     "name": "stdout",
     "output_type": "stream",
     "text": [
      "421\n",
      "Step:  0   0.014000415802001953\n",
      "Step:  10   22.838997840881348\n",
      "Step:  20   44.593995332717896\n",
      "Step:  30   66.3539936542511\n",
      "Step:  40   94.05799269676208\n",
      "Step:  50   122.9549868106842\n",
      "Step:  60   151.76598811149597\n",
      "Step:  70   180.43398904800415\n",
      "Step:  80   208.9899878501892\n",
      "Step:  90   237.79398846626282\n",
      "Step:  100   266.68120312690735\n",
      "Step:  110   295.61732029914856\n",
      "Step:  120   324.736430644989\n",
      "Step:  130   353.64254879951477\n",
      "Step:  140   382.50466871261597\n",
      "Step:  150   411.2607910633087\n",
      "Step:  160   440.08991169929504\n",
      "Step:  170   468.6790382862091\n",
      "Step:  180   497.44216299057007\n",
      "Step:  190   526.1602871417999\n",
      "Step:  200   554.815835237503\n",
      "Step:  210   583.3498296737671\n",
      "Step:  220   611.7298247814178\n",
      "Step:  230   640.1718184947968\n",
      "Step:  240   668.8478128910065\n",
      "Step:  250   697.7228064537048\n",
      "Step:  260   726.5558013916016\n",
      "Step:  270   755.2607960700989\n",
      "Step:  280   783.9387903213501\n",
      "Step:  290   812.7757840156555\n",
      "Step:  300   841.6807782649994\n",
      "Step:  310   870.5247728824615\n",
      "Step:  320   899.2057681083679\n",
      "Step:  330   928.2497639656067\n",
      "Step:  340   957.4037554264069\n",
      "Step:  350   986.5357518196106\n",
      "Step:  360   1015.6327435970306\n",
      "Step:  370   1044.5937402248383\n",
      "Step:  380   1073.6707344055176\n",
      "Step:  390   1102.729726076126\n",
      "Step:  400   1131.8337187767029\n",
      "Step:  410   1160.9567205905914\n",
      "Step:  420   1189.890719652176\n"
     ]
    }
   ],
   "source": [
    "cand_model.eval()\n",
    "entity_emebeddings = dict()\n",
    "print(len(dataloader))\n",
    "with torch.no_grad():\n",
    "    start = time.time()\n",
    "    for step, batch in enumerate(dataloader):\n",
    "        if step%10==0:\n",
    "            print(\"Step: \",step,\" \",time.time()-start)\n",
    "        candidate_input, e_ids  = batch\n",
    "        this_batch = e_ids.size(0)\n",
    "        e_ids = e_ids.cpu().detach().numpy()\n",
    "        cand_rep = cand_model(candidate_input.to(device))[0][:,0,:]\n",
    "        for i in range(this_batch):\n",
    "            entity_emebeddings[e_ids[i]] = cand_rep[i].cpu().detach().numpy()"
   ]
  },
  {
   "cell_type": "code",
   "execution_count": 12,
   "metadata": {},
   "outputs": [],
   "source": [
    "with open(embeddings_folder,\"wb\") as f:\n",
    "    pickle.dump(entity_emebeddings,f)"
   ]
  }
 ],
 "metadata": {
  "kernelspec": {
   "display_name": "Python 3",
   "language": "python",
   "name": "python3"
  },
  "language_info": {
   "codemirror_mode": {
    "name": "ipython",
    "version": 3
   },
   "file_extension": ".py",
   "mimetype": "text/x-python",
   "name": "python",
   "nbconvert_exporter": "python",
   "pygments_lexer": "ipython3",
   "version": "3.7.9"
  }
 },
 "nbformat": 4,
 "nbformat_minor": 4
}
