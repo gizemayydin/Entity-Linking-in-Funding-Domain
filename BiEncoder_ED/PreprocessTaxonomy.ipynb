{
 "cells": [
  {
   "cell_type": "markdown",
   "metadata": {},
   "source": [
    "Get the entities, labels and countries"
   ]
  },
  {
   "cell_type": "code",
   "execution_count": 1,
   "metadata": {},
   "outputs": [],
   "source": [
    "import rdflib\n",
    "filename = 'C:\\\\Users\\\\aydxng\\\\Documents\\\\FilesForExperiment\\\\NewTaxononmy\\\\FundRef_v2020-11_20201112_nowrapper_shadow\\\\FundRef_v2020-11_20201112_nowrapper_shadow.rdf'\n",
    "g = rdflib.Graph()\n",
    "g.load(filename)"
   ]
  },
  {
   "cell_type": "code",
   "execution_count": 2,
   "metadata": {},
   "outputs": [],
   "source": [
    "entity_ids = []\n",
    "for x in g:\n",
    "    #If the element is a \"Concept\", it is an entity.\n",
    "    #We add the entity ID to the list\n",
    "    if x[2] == rdflib.term.URIRef('http://www.w3.org/2004/02/skos/core#Concept'):\n",
    "        entity_ids.append(x[0])"
   ]
  },
  {
   "cell_type": "code",
   "execution_count": 3,
   "metadata": {},
   "outputs": [],
   "source": [
    "country_info_file = 'C:\\\\Users\\\\aydxng\\OneDrive - Reed Elsevier Group ICO Reed Elsevier Inc\\\\Desktop\\\\ElsevierData\\\\countryInfo.txt'\n",
    "def generate_country_dict(country_info_file):\n",
    "    name = []\n",
    "    geoname_ids = []\n",
    "    with open(country_info_file, encoding='utf-8') as f:\n",
    "        for line in f.readlines():\n",
    "            if line[0] != '#':\n",
    "                line = line.split('\\t')\n",
    "                name.append(line[4])\n",
    "                geoname_ids.append(line[16])\n",
    "    geoname_ids_dict = dict(zip(geoname_ids,name))\n",
    "    #Add the geoname id of EU as it does not exist in country_info.txt\n",
    "    geoname_ids_dict['6695072'] = 'European Union'\n",
    "    return geoname_ids_dict\n",
    "geoname_ids_dict = generate_country_dict(country_info_file)"
   ]
  },
  {
   "cell_type": "code",
   "execution_count": 4,
   "metadata": {},
   "outputs": [],
   "source": [
    "altLabel= rdflib.term.URIRef('http://www.w3.org/2008/05/skos-xl#altLabel')\n",
    "literalForm= rdflib.term.URIRef('http://www.w3.org/2008/05/skos-xl#literalForm')\n",
    "prefLabel= rdflib.term.URIRef('http://www.w3.org/2008/05/skos-xl#prefLabel')"
   ]
  },
  {
   "cell_type": "code",
   "execution_count": 5,
   "metadata": {},
   "outputs": [],
   "source": [
    "entity_dict = dict()\n",
    "## REP 2\n",
    "for e_id in entity_ids:\n",
    "    #Get entity id\n",
    "    e_id_stripped = e_id.split(\"/\")[-1]\n",
    "    #Get country\n",
    "    country = None\n",
    "    for x in g.objects(subject=e_id,predicate=rdflib.term.URIRef('http://www.elsevier.com/xml/schema/grant/grant-1.2/country')):\n",
    "        country = geoname_ids_dict[x.split('/')[-2]]\n",
    "    #Get labels\n",
    "    all_labels = []\n",
    "    for x in g.objects(subject=e_id,predicate=prefLabel):\n",
    "        all_labels.append(str(g.value(subject=rdflib.term.URIRef(x),predicate=literalForm)))\n",
    "    for x in g.objects(subject=e_id,predicate=altLabel):\n",
    "        all_labels.append(str(g.value(subject=rdflib.term.URIRef(x),predicate=literalForm)))\n",
    "    #This will be the value for this entity\n",
    "    entity_dict[e_id_stripped] = {'Labels':all_labels,'Country':country}"
   ]
  },
  {
   "cell_type": "code",
   "execution_count": 6,
   "metadata": {},
   "outputs": [],
   "source": [
    "import pickle\n",
    "with open('entities.pkl','wb') as f:\n",
    "    pickle.dump(entity_dict,f)"
   ]
  }
 ],
 "metadata": {
  "kernelspec": {
   "display_name": "Python 3",
   "language": "python",
   "name": "python3"
  },
  "language_info": {
   "codemirror_mode": {
    "name": "ipython",
    "version": 3
   },
   "file_extension": ".py",
   "mimetype": "text/x-python",
   "name": "python",
   "nbconvert_exporter": "python",
   "pygments_lexer": "ipython3",
   "version": "3.7.9"
  }
 },
 "nbformat": 4,
 "nbformat_minor": 4
}
