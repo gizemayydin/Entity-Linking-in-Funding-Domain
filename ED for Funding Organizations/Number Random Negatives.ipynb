{
 "cells": [
  {
   "cell_type": "markdown",
   "metadata": {},
   "source": [
    "# Inputs\n",
    "* `path_to_train_hard_negs`: Path to the output of the notebook `Hard Negative Mining.ipynb` when run for `train.jsonl`\n",
    "* `path_to_monitor_hard_negs`: Path to the output of the notebook `Hard Negative Mining.ipynb` when run for `dev.jsonl`\n",
    "* `train_fname`: Path to `train.jsonl`\n",
    "* `monitor_fname`: Path to `dev.jsonl`\n",
    "\n",
    "# Outputs\n",
    "Read the output of the cells."
   ]
  },
  {
   "cell_type": "code",
   "execution_count": null,
   "metadata": {},
   "outputs": [],
   "source": [
    "import pickle\n",
    "import numpy as np\n",
    "import json"
   ]
  },
  {
   "cell_type": "code",
   "execution_count": null,
   "metadata": {},
   "outputs": [],
   "source": [
    "path_to_train_hard_negs = \"\"\n",
    "path_to_monitor_hard_negs = \"\"\n",
    "train_fname = \"train.jsonl\"\n",
    "monitor_fname = \"dev.jsonl\""
   ]
  },
  {
   "cell_type": "code",
   "execution_count": null,
   "metadata": {},
   "outputs": [],
   "source": [
    "with open(path_to_train_hard_negs,'rb') as f:\n",
    "    x =pickle.load(f)"
   ]
  },
  {
   "cell_type": "code",
   "execution_count": null,
   "metadata": {},
   "outputs": [],
   "source": [
    "tot = 0\n",
    "for item in x:\n",
    "    tot+=len(item)\n",
    "print(np.round(tot/95761),' random negatives per mention for next round.'"
   ]
  },
  {
   "cell_type": "code",
   "execution_count": null,
   "metadata": {},
   "outputs": [],
   "source": [
    "train_samples = []\n",
    "with open(train_fname, mode=\"r\", encoding=\"utf-8\") as file:\n",
    "    for line in file:\n",
    "        train_samples.append(json.loads(line.strip()))\n",
    "print(len(train_samples))\n",
    "correct = [] \n",
    "files = []\n",
    "for item in train_samples:\n",
    "    correct.append(item['label_id'])\n",
    "    files.append(item['folder']+\"\\\\\"+item['filename'])\n",
    "cts = np.zeros(11,dtype=int)\n",
    "for i, item in enumerate(x):\n",
    "    if correct[i] is not None:\n",
    "        cts[len(item)] +=1\n",
    "\n",
    "print('Number of hard negatives for training')\n",
    "print('No hard negs - 1 - 2 - 3 - 4 - 5 - 6 - 7 - 8 - 9 - 10 or more')\n",
    "print(cts)"
   ]
  },
  {
   "cell_type": "code",
   "execution_count": null,
   "metadata": {},
   "outputs": [],
   "source": [
    "with open(path_to_monitor_hard_negs,'rb') as f:\n",
    "    x =pickle.load(f)\n",
    "train_samples = []\n",
    "with open(monitor_fname, mode=\"r\", encoding=\"utf-8\") as file:\n",
    "    for line in file:\n",
    "        train_samples.append(json.loads(line.strip()))\n",
    "print(len(train_samples))\n",
    "correct = [] \n",
    "files = []\n",
    "for item in train_samples:\n",
    "    correct.append(item['label_id'])\n",
    "    files.append(item['folder']+\"\\\\\"+item['filename'])\n",
    "cts = np.zeros(11,dtype=int)\n",
    "for i, item in enumerate(x):\n",
    "    if correct[i] is not None:\n",
    "        cts[len(item)] +=1\n",
    "cts\n",
    "\n",
    "print('Number of hard negatives for monitor')\n",
    "print('No hard negs - 1 - 2 - 3 - 4 - 5 - 6 - 7 - 8 - 9 - 10 or more')\n",
    "print(cts)"
   ]
  }
 ],
 "metadata": {
  "kernelspec": {
   "display_name": "Python 3",
   "language": "python",
   "name": "python3"
  },
  "language_info": {
   "codemirror_mode": {
    "name": "ipython",
    "version": 3
   },
   "file_extension": ".py",
   "mimetype": "text/x-python",
   "name": "python",
   "nbconvert_exporter": "python",
   "pygments_lexer": "ipython3",
   "version": "3.7.9"
  }
 },
 "nbformat": 4,
 "nbformat_minor": 4
}
