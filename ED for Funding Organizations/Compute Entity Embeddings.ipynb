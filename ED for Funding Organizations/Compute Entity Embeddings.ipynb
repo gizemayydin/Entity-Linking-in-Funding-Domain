{
 "cells": [
  {
   "cell_type": "markdown",
   "metadata": {},
   "source": [
    "# Inputs\n",
    "See second cell.\n",
    "* `embeddings_folder`: The filename of the output entity embeddings. Naming convention is \"entity_embeds_ROUNDNUMBER.pkl\". For the first round, it would be \"entity_embeds_1.pkl\"\n",
    "* `input_batch_size`: Batch size to be used for embedding calculation. Depends on available memory.\n",
    "* `device`: Whether to use GPU or CPU.\n",
    "* `model_path`: Path to the entity model. For first round, this would be the path to \"randomneg_cand_model.pt\".\n",
    "* `entity_rep_file`: Path to `entity_representations.pkl`. See the notebook `BiEncoder RandomNegative Training.ipynb` for a detailed explanation.\n",
    "# Outputs\n",
    "Dictionary dumped to file specified with variable `embeddings_folder`. Keys are entity IDs and values are the corresponding embedding vectors/"
   ]
  },
  {
   "cell_type": "code",
   "execution_count": null,
   "metadata": {},
   "outputs": [],
   "source": [
    "import random\n",
    "import torch\n",
    "import time\n",
    "import numpy as np\n",
    "import pickle\n",
    "import json\n",
    "from torch.utils.data import DataLoader, RandomSampler, SequentialSampler, TensorDataset\n",
    "from transformers import  BertTokenizerFast, BertModel"
   ]
  },
  {
   "cell_type": "code",
   "execution_count": null,
   "metadata": {},
   "outputs": [],
   "source": [
    "embeddings_folder = \"entity_embeds_1.pkl\"\n",
    "input_batch_size = 64\n",
    "model_path = 'randomneg_cand_model.pt'\n",
    "seed = 0\n",
    "device='cuda'\n",
    "entity_rep_file = 'entity_representations.pkl'"
   ]
  },
  {
   "cell_type": "code",
   "execution_count": null,
   "metadata": {},
   "outputs": [],
   "source": [
    "with open(entity_rep_file,'rb') as f:\n",
    "    entity_dict=pickle.load(f)"
   ]
  },
  {
   "cell_type": "code",
   "execution_count": null,
   "metadata": {},
   "outputs": [],
   "source": [
    "random.seed(seed)\n",
    "np.random.seed(seed)\n",
    "torch.manual_seed(seed)"
   ]
  },
  {
   "cell_type": "code",
   "execution_count": null,
   "metadata": {},
   "outputs": [],
   "source": [
    "def select_field(data, key1, key2=None):\n",
    "    if key2 is None:\n",
    "        return [example[key1] for example in data]\n",
    "    else:\n",
    "        return [example[key1][key2] for example in data]\n",
    "def process_entity_data(entity_dict):\n",
    "    \n",
    "    iter_ = list(entity_dict.keys())\n",
    "    processed_samples = []\n",
    "    for idx, sample in enumerate(iter_):\n",
    "        \n",
    "       \n",
    "        entity_id = int(sample)\n",
    "        entity_inputs = entity_dict[sample]['ids']\n",
    "        \n",
    "        record = {\n",
    "                \"entity_id\": entity_id,\n",
    "                \"entity_inputs\": entity_inputs\n",
    "        }\n",
    "        \n",
    "        processed_samples.append(record)\n",
    "    \n",
    "    cand_vecs = torch.tensor(\n",
    "        select_field(processed_samples, \"entity_inputs\"), dtype=torch.long,\n",
    "    )\n",
    "        \n",
    "    label_idx = torch.tensor(\n",
    "        select_field(processed_samples, \"entity_id\"), dtype=torch.long,\n",
    "    )\n",
    "    data = {\n",
    "        \"entity_id\": label_idx,\n",
    "        \"entity_inputs\": cand_vecs\n",
    "    }\n",
    "    tensor_data = TensorDataset(cand_vecs, label_idx)\n",
    "    return data, tensor_data"
   ]
  },
  {
   "cell_type": "code",
   "execution_count": null,
   "metadata": {},
   "outputs": [],
   "source": [
    "cand_model = torch.load(model_path).to(device)"
   ]
  },
  {
   "cell_type": "code",
   "execution_count": null,
   "metadata": {},
   "outputs": [],
   "source": [
    "data, tensor_data = process_entity_data(entity_dict)\n",
    "\n",
    "sampler = RandomSampler(tensor_data)\n",
    "dataloader = DataLoader(tensor_data, sampler=sampler, batch_size=input_batch_size)"
   ]
  },
  {
   "cell_type": "code",
   "execution_count": null,
   "metadata": {
    "scrolled": true
   },
   "outputs": [],
   "source": [
    "cand_model.eval()\n",
    "entity_emebeddings = dict()\n",
    "print(len(dataloader))\n",
    "with torch.no_grad():\n",
    "    start = time.time()\n",
    "    for step, batch in enumerate(dataloader):\n",
    "        if step%10==0:\n",
    "            print(\"Step: \",step,\" \",time.time()-start)\n",
    "        candidate_input, e_ids  = batch\n",
    "        this_batch = e_ids.size(0)\n",
    "        e_ids = e_ids.cpu().detach().numpy()\n",
    "        cand_rep = cand_model(candidate_input.to(device))[0][:,0,:]\n",
    "        for i in range(this_batch):\n",
    "            entity_emebeddings[e_ids[i]] = cand_rep[i].cpu().detach().numpy()"
   ]
  },
  {
   "cell_type": "code",
   "execution_count": null,
   "metadata": {},
   "outputs": [],
   "source": [
    "with open(embeddings_folder,\"wb\") as f:\n",
    "    pickle.dump(entity_emebeddings,f)"
   ]
  }
 ],
 "metadata": {
  "kernelspec": {
   "display_name": "Python 3",
   "language": "python",
   "name": "python3"
  },
  "language_info": {
   "codemirror_mode": {
    "name": "ipython",
    "version": 3
   },
   "file_extension": ".py",
   "mimetype": "text/x-python",
   "name": "python",
   "nbconvert_exporter": "python",
   "pygments_lexer": "ipython3",
   "version": "3.7.9"
  }
 },
 "nbformat": 4,
 "nbformat_minor": 4
}
